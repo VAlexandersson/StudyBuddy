{
 "cells": [
  {
   "cell_type": "code",
   "execution_count": 15,
   "metadata": {},
   "outputs": [
    {
     "data": {
      "text/plain": [
       "(    rouge_l          bleu    meteor  bert_score\n",
       " 0  0.666667  4.544362e-01  0.758527    0.925760\n",
       " 1  0.252874  2.841955e-02  0.214797    0.870055\n",
       " 2  0.451613  1.870441e-01  0.482062    0.891120\n",
       " 3  0.159420  8.348473e-79  0.173611    0.850062\n",
       " 4  0.495238  1.071139e-01  0.531965    0.894360\n",
       " 5  0.604651  3.718421e-01  0.645761    0.927261\n",
       " 6  0.142857  6.076398e-79  0.144928    0.844085\n",
       " 7  0.335404  4.903383e-02  0.385964    0.869385\n",
       " 8  0.275229  5.259900e-02  0.419023    0.877083\n",
       " 9  0.354430  9.686208e-02  0.457671    0.893985,\n",
       " rouge_l       0.373838\n",
       " bleu          0.134735\n",
       " meteor        0.421431\n",
       " bert_score    0.884316\n",
       " dtype: float64)"
      ]
     },
     "execution_count": 15,
     "metadata": {},
     "output_type": "execute_result"
    }
   ],
   "source": [
    "import json\n",
    "import pandas as pd\n",
    "\n",
    "# Load the JSON file\n",
    "with open('llm_eval_q.json', 'r') as f:\n",
    "    data = json.load(f)\n",
    "\n",
    "# Convert the JSON data into a pandas DataFrame\n",
    "df = pd.DataFrame(data)\n",
    "automatic_evaluation_df = df['automatic_evaluation'].apply(pd.Series)\n",
    "df = pd.concat([df.drop(columns=['automatic_evaluation']), automatic_evaluation_df], axis=1)\n",
    "df = df.drop(columns=['llm_eval', 'query'])\n",
    "average_scores = df.mean()\n",
    "\n",
    "average_scores\n",
    "# Print the DataFrame to verify\n",
    "df, average_scores"
   ]
  },
  {
   "cell_type": "code",
   "execution_count": 25,
   "metadata": {},
   "outputs": [
    {
     "data": {
      "text/html": [
       "<div>\n",
       "<style scoped>\n",
       "    .dataframe tbody tr th:only-of-type {\n",
       "        vertical-align: middle;\n",
       "    }\n",
       "\n",
       "    .dataframe tbody tr th {\n",
       "        vertical-align: top;\n",
       "    }\n",
       "\n",
       "    .dataframe thead th {\n",
       "        text-align: right;\n",
       "    }\n",
       "</style>\n",
       "<table border=\"1\" class=\"dataframe\">\n",
       "  <thead>\n",
       "    <tr style=\"text-align: right;\">\n",
       "      <th></th>\n",
       "      <th>appropriateness_avg_score</th>\n",
       "      <th>information_usage_avg_score</th>\n",
       "      <th>relevance_avg_score</th>\n",
       "      <th>depth_and_elaboration_avg_score</th>\n",
       "      <th>accuracy_avg_score</th>\n",
       "      <th>coherence_avg_score</th>\n",
       "      <th>overall_avg_score</th>\n",
       "      <th>essential_completeness_avg_score</th>\n",
       "    </tr>\n",
       "  </thead>\n",
       "  <tbody>\n",
       "    <tr>\n",
       "      <th>0</th>\n",
       "      <td>8.909091</td>\n",
       "      <td>8.727273</td>\n",
       "      <td>9.636364</td>\n",
       "      <td>7.272727</td>\n",
       "      <td>9.636364</td>\n",
       "      <td>8.545455</td>\n",
       "      <td>8.636364</td>\n",
       "      <td>9.818182</td>\n",
       "    </tr>\n",
       "  </tbody>\n",
       "</table>\n",
       "</div>"
      ],
      "text/plain": [
       "   appropriateness_avg_score  information_usage_avg_score  \\\n",
       "0                   8.909091                     8.727273   \n",
       "\n",
       "   relevance_avg_score  depth_and_elaboration_avg_score  accuracy_avg_score  \\\n",
       "0             9.636364                         7.272727            9.636364   \n",
       "\n",
       "   coherence_avg_score  overall_avg_score  essential_completeness_avg_score  \n",
       "0             8.545455           8.636364                          9.818182  "
      ]
     },
     "execution_count": 25,
     "metadata": {},
     "output_type": "execute_result"
    }
   ],
   "source": [
    "with open('avg_scores.json', 'r') as f:\n",
    "  llm_eval_average = json.load(f)\n",
    "df_transposed = df.set_index('key').T\n",
    "df_transposed.reset_index(drop=True, inplace=True)\n",
    "\n",
    "# Rename columns by inserting \"_avg\" before \"_score\"\n",
    "df_transposed.columns = [col.replace('_score', '_avg_score') for col in df_transposed.columns]\n",
    "\n",
    "df_transposed"
   ]
  },
  {
   "cell_type": "code",
   "execution_count": 26,
   "metadata": {},
   "outputs": [
    {
     "ename": "PyperclipException",
     "evalue": "\n    Pyperclip could not find a copy/paste mechanism for your system.\n    For more information, please visit\n    https://pyperclip.readthedocs.io/en/latest/index.html#not-implemented-error\n    ",
     "output_type": "error",
     "traceback": [
      "\u001b[0;31m---------------------------------------------------------------------------\u001b[0m",
      "\u001b[0;31mPyperclipException\u001b[0m                        Traceback (most recent call last)",
      "Cell \u001b[0;32mIn[26], line 1\u001b[0m\n\u001b[0;32m----> 1\u001b[0m \u001b[43mdf_transposed\u001b[49m\u001b[38;5;241;43m.\u001b[39;49m\u001b[43mto_clipboard\u001b[49m\u001b[43m(\u001b[49m\u001b[43mindex\u001b[49m\u001b[38;5;241;43m=\u001b[39;49m\u001b[38;5;28;43;01mFalse\u001b[39;49;00m\u001b[43m)\u001b[49m\n",
      "File \u001b[0;32m~/Study-Buddy/.venv/lib/python3.10/site-packages/pandas/util/_decorators.py:333\u001b[0m, in \u001b[0;36mdeprecate_nonkeyword_arguments.<locals>.decorate.<locals>.wrapper\u001b[0;34m(*args, **kwargs)\u001b[0m\n\u001b[1;32m    327\u001b[0m \u001b[38;5;28;01mif\u001b[39;00m \u001b[38;5;28mlen\u001b[39m(args) \u001b[38;5;241m>\u001b[39m num_allow_args:\n\u001b[1;32m    328\u001b[0m     warnings\u001b[38;5;241m.\u001b[39mwarn(\n\u001b[1;32m    329\u001b[0m         msg\u001b[38;5;241m.\u001b[39mformat(arguments\u001b[38;5;241m=\u001b[39m_format_argument_list(allow_args)),\n\u001b[1;32m    330\u001b[0m         \u001b[38;5;167;01mFutureWarning\u001b[39;00m,\n\u001b[1;32m    331\u001b[0m         stacklevel\u001b[38;5;241m=\u001b[39mfind_stack_level(),\n\u001b[1;32m    332\u001b[0m     )\n\u001b[0;32m--> 333\u001b[0m \u001b[38;5;28;01mreturn\u001b[39;00m \u001b[43mfunc\u001b[49m\u001b[43m(\u001b[49m\u001b[38;5;241;43m*\u001b[39;49m\u001b[43margs\u001b[49m\u001b[43m,\u001b[49m\u001b[43m \u001b[49m\u001b[38;5;241;43m*\u001b[39;49m\u001b[38;5;241;43m*\u001b[39;49m\u001b[43mkwargs\u001b[49m\u001b[43m)\u001b[49m\n",
      "File \u001b[0;32m~/Study-Buddy/.venv/lib/python3.10/site-packages/pandas/core/generic.py:3247\u001b[0m, in \u001b[0;36mNDFrame.to_clipboard\u001b[0;34m(self, excel, sep, **kwargs)\u001b[0m\n\u001b[1;32m   3180\u001b[0m \u001b[38;5;250m\u001b[39m\u001b[38;5;124mr\u001b[39m\u001b[38;5;124;03m\"\"\"\u001b[39;00m\n\u001b[1;32m   3181\u001b[0m \u001b[38;5;124;03mCopy object to the system clipboard.\u001b[39;00m\n\u001b[1;32m   3182\u001b[0m \n\u001b[0;32m   (...)\u001b[0m\n\u001b[1;32m   3243\u001b[0m \u001b[38;5;124;03m   pyperclip.copy(html)\u001b[39;00m\n\u001b[1;32m   3244\u001b[0m \u001b[38;5;124;03m\"\"\"\u001b[39;00m\n\u001b[1;32m   3245\u001b[0m \u001b[38;5;28;01mfrom\u001b[39;00m \u001b[38;5;21;01mpandas\u001b[39;00m\u001b[38;5;21;01m.\u001b[39;00m\u001b[38;5;21;01mio\u001b[39;00m \u001b[38;5;28;01mimport\u001b[39;00m clipboards\n\u001b[0;32m-> 3247\u001b[0m \u001b[43mclipboards\u001b[49m\u001b[38;5;241;43m.\u001b[39;49m\u001b[43mto_clipboard\u001b[49m\u001b[43m(\u001b[49m\u001b[38;5;28;43mself\u001b[39;49m\u001b[43m,\u001b[49m\u001b[43m \u001b[49m\u001b[43mexcel\u001b[49m\u001b[38;5;241;43m=\u001b[39;49m\u001b[43mexcel\u001b[49m\u001b[43m,\u001b[49m\u001b[43m \u001b[49m\u001b[43msep\u001b[49m\u001b[38;5;241;43m=\u001b[39;49m\u001b[43msep\u001b[49m\u001b[43m,\u001b[49m\u001b[43m \u001b[49m\u001b[38;5;241;43m*\u001b[39;49m\u001b[38;5;241;43m*\u001b[39;49m\u001b[43mkwargs\u001b[49m\u001b[43m)\u001b[49m\n",
      "File \u001b[0;32m~/Study-Buddy/.venv/lib/python3.10/site-packages/pandas/io/clipboards.py:178\u001b[0m, in \u001b[0;36mto_clipboard\u001b[0;34m(obj, excel, sep, **kwargs)\u001b[0m\n\u001b[1;32m    175\u001b[0m     obj\u001b[38;5;241m.\u001b[39mto_csv(buf, sep\u001b[38;5;241m=\u001b[39msep, encoding\u001b[38;5;241m=\u001b[39m\u001b[38;5;124m\"\u001b[39m\u001b[38;5;124mutf-8\u001b[39m\u001b[38;5;124m\"\u001b[39m, \u001b[38;5;241m*\u001b[39m\u001b[38;5;241m*\u001b[39mkwargs)\n\u001b[1;32m    176\u001b[0m     text \u001b[38;5;241m=\u001b[39m buf\u001b[38;5;241m.\u001b[39mgetvalue()\n\u001b[0;32m--> 178\u001b[0m     \u001b[43mclipboard_set\u001b[49m\u001b[43m(\u001b[49m\u001b[43mtext\u001b[49m\u001b[43m)\u001b[49m\n\u001b[1;32m    179\u001b[0m     \u001b[38;5;28;01mreturn\u001b[39;00m\n\u001b[1;32m    180\u001b[0m \u001b[38;5;28;01mexcept\u001b[39;00m \u001b[38;5;167;01mTypeError\u001b[39;00m:\n",
      "File \u001b[0;32m~/Study-Buddy/.venv/lib/python3.10/site-packages/pandas/io/clipboard/__init__.py:659\u001b[0m, in \u001b[0;36mlazy_load_stub_copy\u001b[0;34m(text)\u001b[0m\n\u001b[1;32m    657\u001b[0m \u001b[38;5;28;01mglobal\u001b[39;00m copy, paste\n\u001b[1;32m    658\u001b[0m copy, paste \u001b[38;5;241m=\u001b[39m determine_clipboard()\n\u001b[0;32m--> 659\u001b[0m \u001b[38;5;28;01mreturn\u001b[39;00m \u001b[43mcopy\u001b[49m\u001b[43m(\u001b[49m\u001b[43mtext\u001b[49m\u001b[43m)\u001b[49m\n",
      "File \u001b[0;32m~/Study-Buddy/.venv/lib/python3.10/site-packages/pandas/io/clipboard/__init__.py:316\u001b[0m, in \u001b[0;36minit_no_clipboard.<locals>.ClipboardUnavailable.__call__\u001b[0;34m(self, *args, **kwargs)\u001b[0m\n\u001b[1;32m    315\u001b[0m \u001b[38;5;28;01mdef\u001b[39;00m \u001b[38;5;21m__call__\u001b[39m(\u001b[38;5;28mself\u001b[39m, \u001b[38;5;241m*\u001b[39margs, \u001b[38;5;241m*\u001b[39m\u001b[38;5;241m*\u001b[39mkwargs):\n\u001b[0;32m--> 316\u001b[0m     \u001b[38;5;28;01mraise\u001b[39;00m PyperclipException(EXCEPT_MSG)\n",
      "\u001b[0;31mPyperclipException\u001b[0m: \n    Pyperclip could not find a copy/paste mechanism for your system.\n    For more information, please visit\n    https://pyperclip.readthedocs.io/en/latest/index.html#not-implemented-error\n    "
     ]
    }
   ],
   "source": [
    "df_transposed.to_clipboard(index=False)"
   ]
  },
  {
   "cell_type": "code",
   "execution_count": 28,
   "metadata": {},
   "outputs": [
    {
     "data": {
      "text/html": [
       "<div>\n",
       "<style scoped>\n",
       "    .dataframe tbody tr th:only-of-type {\n",
       "        vertical-align: middle;\n",
       "    }\n",
       "\n",
       "    .dataframe tbody tr th {\n",
       "        vertical-align: top;\n",
       "    }\n",
       "\n",
       "    .dataframe thead th {\n",
       "        text-align: right;\n",
       "    }\n",
       "</style>\n",
       "<table border=\"1\" class=\"dataframe\">\n",
       "  <thead>\n",
       "    <tr style=\"text-align: right;\">\n",
       "      <th></th>\n",
       "      <th>appropriateness_avg_score</th>\n",
       "      <th>information_usage_avg_score</th>\n",
       "      <th>relevance_avg_score</th>\n",
       "      <th>depth_and_elaboration_avg_score</th>\n",
       "      <th>accuracy_avg_score</th>\n",
       "      <th>coherence_avg_score</th>\n",
       "      <th>overall_avg_score</th>\n",
       "      <th>essential_completeness_avg_score</th>\n",
       "    </tr>\n",
       "  </thead>\n",
       "  <tbody>\n",
       "    <tr>\n",
       "      <th>0</th>\n",
       "      <td>8.909091</td>\n",
       "      <td>8.727273</td>\n",
       "      <td>9.636364</td>\n",
       "      <td>7.272727</td>\n",
       "      <td>9.636364</td>\n",
       "      <td>8.545455</td>\n",
       "      <td>8.636364</td>\n",
       "      <td>9.818182</td>\n",
       "    </tr>\n",
       "  </tbody>\n",
       "</table>\n",
       "</div>"
      ],
      "text/plain": [
       "   appropriateness_avg_score  information_usage_avg_score  \\\n",
       "0                   8.909091                     8.727273   \n",
       "\n",
       "   relevance_avg_score  depth_and_elaboration_avg_score  accuracy_avg_score  \\\n",
       "0             9.636364                         7.272727            9.636364   \n",
       "\n",
       "   coherence_avg_score  overall_avg_score  essential_completeness_avg_score  \n",
       "0             8.545455           8.636364                          9.818182  "
      ]
     },
     "execution_count": 28,
     "metadata": {},
     "output_type": "execute_result"
    }
   ],
   "source": [
    "df_transposed.to_csv('df_transposed.csv', index=False, float_format='%.5f')\n",
    "\n",
    "df_transposed"
   ]
  },
  {
   "cell_type": "code",
   "execution_count": 32,
   "metadata": {},
   "outputs": [],
   "source": [
    "average_scores.to_csv('automatic_evaluation_average.csv', float_format='%.5f')\n"
   ]
  },
  {
   "cell_type": "code",
   "execution_count": 34,
   "metadata": {},
   "outputs": [
    {
     "data": {
      "text/plain": [
       "(rouge_l       0.373838\n",
       " bleu          0.134735\n",
       " meteor        0.421431\n",
       " bert_score    0.884316\n",
       " dtype: float64,\n",
       "                                          0\n",
       " appropriateness_avg_score         8.909091\n",
       " information_usage_avg_score       8.727273\n",
       " relevance_avg_score               9.636364\n",
       " depth_and_elaboration_avg_score   7.272727\n",
       " accuracy_avg_score                9.636364\n",
       " coherence_avg_score               8.545455\n",
       " overall_avg_score                 8.636364\n",
       " essential_completeness_avg_score  9.818182)"
      ]
     },
     "execution_count": 34,
     "metadata": {},
     "output_type": "execute_result"
    }
   ],
   "source": [
    "average_scores.T, df_transposed.T"
   ]
  },
  {
   "cell_type": "code",
   "execution_count": null,
   "metadata": {},
   "outputs": [],
   "source": []
  },
  {
   "cell_type": "code",
   "execution_count": 33,
   "metadata": {},
   "outputs": [
    {
     "data": {
      "image/png": "[encoded data removed]",
      "text/plain": [
       "<Figure size 1500x500 with 2 Axes>"
      ]
     },
     "metadata": {},
     "output_type": "display_data"
    }
   ],
   "source": [
    "\n",
    "import matplotlib.pyplot as plt\n",
    "import pandas as pd\n",
    "\n",
    "# LLM Evaluation Data\n",
    "llm_data = {'appropriateness_avg_score': 8.90909, 'information_usage_avg_score': 8.72727,\n",
    "            'relevance_avg_score': 9.63636, 'depth_and_elaboration_avg_score': 7.27273,\n",
    "            'accuracy_avg_score': 9.63636, 'coherence_avg_score': 8.54545,\n",
    "            'overall_avg_score': 8.63636, 'essential_completeness_avg_score': 9.81818}\n",
    "\n",
    "llm_df = df_transposed\n",
    "\n",
    "# Automatic Evaluation Data\n",
    "automatic_data = {'rouge_l': 0.37384, 'bleu': 0.13474, 'meteor': 0.42143, 'bert_score': 0.88432}\n",
    "automatic_df = pd.DataFrame.from_dict(automatic_data, orient='index', columns=['Average Score'])\n",
    "\n",
    "# Create Bar Charts\n",
    "fig, axes = plt.subplots(1, 2, figsize=(15, 5))\n",
    "\n",
    "llm_df.plot(kind='bar', ax=axes[0], legend=False)\n",
    "axes[0].set_title('Average LLM Evaluation Scores')\n",
    "axes[0].set_ylabel('Average Score (1-10)')\n",
    "axes[0].set_xticklabels(llm_df.index, rotation=45, ha='right')\n",
    "\n",
    "automatic_df.plot(kind='bar', ax=axes[1], legend=False)\n",
    "axes[1].set_title('Average Automatic Evaluation Scores')\n",
    "axes[1].set_ylabel('Average Score')\n",
    "axes[1].set_xticklabels(automatic_df.index, rotation=45, ha='right')\n",
    "\n",
    "plt.tight_layout()\n",
    "plt.show()"
   ]
  },
  {
   "cell_type": "code",
   "execution_count": null,
   "metadata": {},
   "outputs": [],
   "source": []
  }
 ],
 "metadata": {
  "kernelspec": {
   "display_name": ".venv",
   "language": "python",
   "name": "python3"
  },
  "language_info": {
   "codemirror_mode": {
    "name": "ipython",
    "version": 3
   },
   "file_extension": ".py",
   "mimetype": "text/x-python",
   "name": "python",
   "nbconvert_exporter": "python",
   "pygments_lexer": "ipython3",
   "version": "3.10.12"
  }
 },
 "nbformat": 4,
 "nbformat_minor": 2
}
