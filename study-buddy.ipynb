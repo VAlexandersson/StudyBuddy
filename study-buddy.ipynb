{
 "cells": [
  {
   "cell_type": "markdown",
   "metadata": {},
   "source": [
    "### Load CSV.\n",
    "\n",
    "Load CSV with chunks and its embedding.\n",
    "\n",
    "Convert "
   ]
  },
  {
   "cell_type": "code",
   "execution_count": 20,
   "metadata": {},
   "outputs": [],
   "source": []
  },
  {
   "cell_type": "code",
   "execution_count": 21,
   "metadata": {},
   "outputs": [
    {
     "data": {
      "text/plain": [
       "device(type='cuda')"
      ]
     },
     "execution_count": 21,
     "metadata": {},
     "output_type": "execute_result"
    }
   ],
   "source": [
    "device"
   ]
  },
  {
   "cell_type": "code",
   "execution_count": 42,
   "metadata": {},
   "outputs": [
    {
     "data": {
      "text/plain": [
       "torch.Size([2898, 768])"
      ]
     },
     "execution_count": 42,
     "metadata": {},
     "output_type": "execute_result"
    }
   ],
   "source": [
    "import random\n",
    "import torch\n",
    "import pandas as pd\n",
    "import numpy as np\n",
    "import helpers\n",
    "import importlib\n",
    "importlib.reload(helpers)\n",
    "from helpers import import_chunks_with_embeddings, get_chunks_embeddings_as_tensor\n",
    "\n",
    "device = torch.device('cuda' if torch.cuda.is_available() else 'cpu')\n",
    "csv_path = \"./data/filtered_all_chapters_embeddings_df.csv\"\n",
    "\n",
    "\n",
    "\n",
    "chunks_with_embeddings = import_chunks_with_embeddings(csv_path)\n",
    "\n",
    "embeddings = get_chunks_embeddings_as_tensor(chunks_with_embeddings).to(device)\n",
    "embeddings.shape"
   ]
  },
  {
   "cell_type": "code",
   "execution_count": 43,
   "metadata": {},
   "outputs": [],
   "source": [
    "# Create the model\n",
    "from sentence_transformers import SentenceTransformer, util\n",
    "\n",
    "embedding_model = SentenceTransformer('all-mpnet-base-v2', device=device)"
   ]
  },
  {
   "cell_type": "code",
   "execution_count": 48,
   "metadata": {},
   "outputs": [
    {
     "name": "stdout",
     "output_type": "stream",
     "text": [
      "Time taken to compute dot scores on (2898): 3.735499922186136e-05 seconds\n",
      "Score: 0.5530380010604858\n",
      "Chapter: Object-based architectural style\n",
      "Text:\n",
      "The server-side stub is often referred to as a skeleton as it provides the bare\n",
      "means for letting the server middleware access the user-defined objects. In\n",
      "practice, it often contains incomplete code in the form of a language-specific\n",
      "class that needs to be further specialized by the developer.\n",
      "\n",
      "\n",
      "Score: 0.5495573282241821\n",
      "Chapter: 4.2.2 Parameter passing\n",
      "Text:\n",
      "The function of the client stub is to take its parameters, pack them into a\n",
      "message, and send them to the server stub. While this sounds straightforward, it\n",
      "is not quite as simple as it at first appears.\n",
      "\n",
      "\n",
      "Score: 0.47215867042541504\n",
      "Chapter: Note 4.8 (Advanced: Implementing stubs as global references revisited)\n",
      "To provide a more in-depth insight in the working of sockets, let us look at a\n",
      "more elaborate example, namely the use of stubs as global references.\n",
      "Text:\n",
      "To use a stub as a global reference, we represent each client application by the\n",
      "class Client shown in Figure (<>)4.20(c). The class is instantiated in the same\n",
      "process running the application (exemplified by the value of self.host), and\n",
      "will be listening on a specific port for messages from other applications, as\n",
      "well as the server. Otherwise, it merely sends and receives messages, coded\n",
      "through the operations sendTo and recvAny, respectively.\n",
      "\n",
      "\n",
      "Score: 0.44657477736473083\n",
      "Chapter: 4.2.1 Basic RPC operation\n",
      "Text:\n",
      "When the server stub gets control back after the call has completed, it packs\n",
      "the result in a message and calls send to return it to the client. Thereafter,\n",
      "the server stub usually does a call to receive again, to wait for the next\n",
      "incoming request.\n",
      "\n",
      "\n",
      "Score: 0.4018314778804779\n",
      "Chapter: AMQP communication\n",
      "Text:\n",
      "1. At the sender’s side, the message is assigned a unique identifier and is\n",
      "recorded locally to be in an unsettled state. The stub subsequently transfers\n",
      "the message to the server, where the AMQP stub also records it as being in an\n",
      "unsettled state. At that point, the server-side stub passes it to the queue\n",
      "manager. 2. The receiving application (in this case the queue manager), is\n",
      "assumed to handle the message and normally reports back to its stub that it is\n",
      "finished. The stub passes this information to the original sender, at which\n",
      "point the message at the original sender’s AMQP stub enters a settled state. 3.\n",
      "The AMQP stub of the original sender now tells the stub of the original receiver\n",
      "that message transfer has been settled (meaning that the original sender will\n",
      "forget about the message from now on). The receiver’s stub can now also discard\n",
      "anything about the message, formally recording it as being settled as well.\n",
      "\n",
      "\n"
     ]
    }
   ],
   "source": [
    "from helpers import retrieve_relevant_resources, print_top_results_and_scores\n",
    "\n",
    "query = \"What is a STUB?\"\n",
    "\n",
    "print_top_results_and_scores(\n",
    "    *retrieve_relevant_resources(query=query, \n",
    "                                 embeddings=embeddings, \n",
    "                                 embedding_model=embedding_model),\n",
    "    chunks_with_embeddings\n",
    ")"
   ]
  }
 ],
 "metadata": {
  "kernelspec": {
   "display_name": "env",
   "language": "python",
   "name": "python3"
  },
  "language_info": {
   "codemirror_mode": {
    "name": "ipython",
    "version": 3
   },
   "file_extension": ".py",
   "mimetype": "text/x-python",
   "name": "python",
   "nbconvert_exporter": "python",
   "pygments_lexer": "ipython3",
   "version": "3.10.12"
  }
 },
 "nbformat": 4,
 "nbformat_minor": 2
}
